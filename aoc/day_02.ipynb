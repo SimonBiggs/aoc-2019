{
 "cells": [
  {
   "cell_type": "code",
   "execution_count": 1,
   "metadata": {},
   "outputs": [
    {
     "name": "stdout",
     "output_type": "stream",
     "text": [
      "[1, 0, 0, 3, 1, 1, 2, 3, 1, 3, 4, 3, 1, 5, 0, 3, 2, 13, 1, 19, 1, 19, 10, 23, 1, 23, 13, 27, 1, 6, 27, 31, 1, 9, 31, 35, 2, 10, 35, 39, 1, 39, 6, 43, 1, 6, 43, 47, 2, 13, 47, 51, 1, 51, 6, 55, 2, 6, 55, 59, 2, 59, 6, 63, 2, 63, 13, 67, 1, 5, 67, 71, 2, 9, 71, 75, 1, 5, 75, 79, 1, 5, 79, 83, 1, 83, 6, 87, 1, 87, 6, 91, 1, 91, 5, 95, 2, 10, 95, 99, 1, 5, 99, 103, 1, 10, 103, 107, 1, 107, 9, 111, 2, 111, 10, 115, 1, 115, 9, 119, 1, 13, 119, 123, 1, 123, 9, 127, 1, 5, 127, 131, 2, 13, 131, 135, 1, 9, 135, 139, 1, 2, 139, 143, 1, 13, 143, 0, 99, 2, 0, 14, 0]\n"
     ]
    }
   ],
   "source": [
    "with open('data/day-02-input.txt', 'r') as f:\n",
    "    parsed = f.read()[:-1]  # drop eof newline\n",
    "\n",
    "tape = list(map(int, parsed.split(',')))\n",
    "print(tape)"
   ]
  },
  {
   "cell_type": "markdown",
   "metadata": {},
   "source": [
    "## part 1"
   ]
  },
  {
   "cell_type": "code",
   "execution_count": 2,
   "metadata": {},
   "outputs": [
    {
     "name": "stdout",
     "output_type": "stream",
     "text": [
      "7210630\n"
     ]
    }
   ],
   "source": [
    "import operator\n",
    "\n",
    "\n",
    "def process_program(tape, address=0):\n",
    "    ops = {1: operator.add, 2: operator.mul}\n",
    "    op, *params = tape[address:address + 4]\n",
    "\n",
    "    res = ops[op](tape[params[0]], tape[params[1]])\n",
    "\n",
    "    _tape = list(tape)  # keep immutable\n",
    "    _tape[params[2]] = res\n",
    "    return _tape\n",
    "\n",
    "\n",
    "def process_tape(tape, address=0):\n",
    "    _tape = process_program(tape, address)\n",
    "\n",
    "    next_op = address + 4\n",
    "    if _tape[next_op] == 99:\n",
    "        return _tape\n",
    "\n",
    "    return process_tape(_tape, next_op)\n",
    "\n",
    "\n",
    "# init gravity assist program\n",
    "tape[1] = 12\n",
    "tape[2] = 2\n",
    "\n",
    "res = process_tape(tape)\n",
    "print(res[0])"
   ]
  },
  {
   "cell_type": "markdown",
   "metadata": {},
   "source": [
    "## part 2"
   ]
  },
  {
   "cell_type": "code",
   "execution_count": 3,
   "metadata": {
    "scrolled": true
   },
   "outputs": [
    {
     "name": "stdout",
     "output_type": "stream",
     "text": [
      "iter: 45\n",
      "noun: 38, verb: 92\n",
      "3892\n"
     ]
    }
   ],
   "source": [
    "def reset_tape(tape, noun, verb):\n",
    "    _tape = list(tape)  # keep immutable\n",
    "    _tape[1] = noun\n",
    "    _tape[2] = verb\n",
    "    return _tape\n",
    "\n",
    "\n",
    "def search(target, tape, nouns, verbs):\n",
    "    \"\"\"O(n+v) for n nouns, v verbs\n",
    "    assumes input numbers are not negative\n",
    "    and only supports opcodes add, mul\n",
    "    \"\"\"\n",
    "    \n",
    "    def _search(noun, verb, it=0):\n",
    "        _tape = reset_tape(tape, noun, verb)\n",
    "        res = process_tape(_tape)\n",
    "\n",
    "        if res[0] == target:\n",
    "            return res, noun, verb, it\n",
    "\n",
    "        # search nouns\n",
    "        # have already tried greatest verb so safe to increment noun\n",
    "        if res[0] < target:\n",
    "            return _search(noun + 1, verb, it + 1)\n",
    "        # search verbs\n",
    "        # now know bounds are f(noun-1, verb) < target < f(noun, verb)\n",
    "        return _search(noun, verb - 1, it + 1)\n",
    "\n",
    "    # start w lowest noun and highest verb\n",
    "    return _search(nouns[0], verbs[1])\n",
    "\n",
    "\n",
    "target = 19690720\n",
    "res, noun, verb, it = search(target, tape, (0, 99), (0, 99))\n",
    "\n",
    "print(f\"iter: {it}\")\n",
    "print(f\"noun: {noun}, verb: {verb}\")\n",
    "print((100 * noun) + verb)"
   ]
  },
  {
   "cell_type": "code",
   "execution_count": null,
   "metadata": {},
   "outputs": [],
   "source": []
  }
 ],
 "metadata": {
  "kernelspec": {
   "display_name": "Python 3",
   "language": "python",
   "name": "python3"
  },
  "language_info": {
   "codemirror_mode": {
    "name": "ipython",
    "version": 3
   },
   "file_extension": ".py",
   "mimetype": "text/x-python",
   "name": "python",
   "nbconvert_exporter": "python",
   "pygments_lexer": "ipython3",
   "version": "3.6.8"
  }
 },
 "nbformat": 4,
 "nbformat_minor": 2
}
