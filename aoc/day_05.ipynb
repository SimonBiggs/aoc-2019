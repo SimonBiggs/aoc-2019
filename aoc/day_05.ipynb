{
 "cells": [
  {
   "cell_type": "code",
   "execution_count": 1,
   "metadata": {},
   "outputs": [],
   "source": [
    "import operator\n",
    "from functools import partial"
   ]
  },
  {
   "cell_type": "code",
   "execution_count": 2,
   "metadata": {},
   "outputs": [
    {
     "name": "stdout",
     "output_type": "stream",
     "text": [
      "3,225,1,225,6,6,1100,1,238,225,104,0,1102,46,47,225,2,122,130,224,101,-1998,224\n"
     ]
    }
   ],
   "source": [
    "with open('inputs/day-05.txt', 'r') as f:\n",
    "    code = f.read()[:-1]  # drop eof newline\n",
    "print(code[:79])"
   ]
  },
  {
   "cell_type": "markdown",
   "metadata": {},
   "source": [
    "## machine"
   ]
  },
  {
   "cell_type": "code",
   "execution_count": 3,
   "metadata": {},
   "outputs": [],
   "source": [
    "def resolve(mem, val, mode):\n",
    "    return mem[val] if int(mode) == 0 else val\n",
    "\n",
    "\n",
    "def op(op_func, num_params, mem, pointer, modes, **kwargs):\n",
    "    params = mem[pointer + 1:pointer + num_params + 1]\n",
    "    if kwargs.get('_debug', False):\n",
    "        print(\"\", params)\n",
    "    p_orig = pointer\n",
    "\n",
    "    mem, pointer, *state = op_func(mem, pointer, params, modes, **kwargs)\n",
    "\n",
    "    state = state[0] if state else \"running\"\n",
    "    pointer = (pointer + len(params) + 1) if (pointer == p_orig) else pointer\n",
    "    return mem, pointer, state\n",
    "\n",
    "\n",
    "def opcode(instruction):\n",
    "    return int(str(instruction)[-2:])\n",
    "\n",
    "\n",
    "def modes(instruction):\n",
    "    return f\"{instruction:05d}\"[:3][::-1]\n",
    "\n",
    "\n",
    "def run(ops, mem, pointer, state, **kwargs):\n",
    "    if state == \"halted\":\n",
    "        return mem\n",
    "\n",
    "    instruction = mem[pointer]\n",
    "    _opcode = opcode(instruction)\n",
    "    _modes = modes(instruction)\n",
    "    if kwargs.get('_debug', False):\n",
    "        print(_opcode, _modes, end='')\n",
    "\n",
    "    _op = ops[_opcode]\n",
    "    return run(ops, *_op(mem, pointer, _modes, **kwargs), **kwargs)\n"
   ]
  },
  {
   "cell_type": "markdown",
   "metadata": {},
   "source": [
    "#### operations"
   ]
  },
  {
   "cell_type": "code",
   "execution_count": 4,
   "metadata": {},
   "outputs": [],
   "source": [
    "# f(mem: List[int], pointer: int, params: List[int], modes: str, **kwargs)\n",
    "#     -> Tuple[List[int], int, Optional[str]]\n",
    "\n",
    "def _math(func, mem, pointer, params, modes, **kwargs):\n",
    "    a = resolve(mem, params[0], modes[0])\n",
    "    b = resolve(mem, params[1], modes[1])\n",
    "    out = params[2]\n",
    "    res = int(func(a, b))\n",
    "    _mem = list(mem)\n",
    "    _mem[out] = res\n",
    "    return _mem, pointer\n",
    "\n",
    "\n",
    "def _inp(mem, pointer, params, modes, **kwargs):\n",
    "    inp = kwargs.get('_input', None)\n",
    "    if inp is None:\n",
    "        inp = input(\"inp: \")\n",
    "    out = params[0]\n",
    "    _mem = list(mem)\n",
    "    _mem[out] = int(inp)\n",
    "    return _mem, pointer\n",
    "\n",
    "\n",
    "def _out(mem, pointer, params, modes, **kwargs):\n",
    "    val = resolve(mem, params[0], modes[0])\n",
    "    print(\"out:\", val)\n",
    "    return mem, pointer\n",
    "\n",
    "\n",
    "def _jump(func, mem, pointer, params, modes, **kwargs):\n",
    "    cond = resolve(mem, params[0], modes[0])\n",
    "    _pointer = pointer\n",
    "    if func(cond):\n",
    "        _pointer = resolve(mem, params[1], modes[1])\n",
    "    return mem, _pointer\n",
    "\n",
    "\n",
    "def _halt(mem, pointer, *args, **kwargs):\n",
    "    return mem, pointer, \"halted\""
   ]
  },
  {
   "cell_type": "markdown",
   "metadata": {},
   "source": [
    "## part 1"
   ]
  },
  {
   "cell_type": "code",
   "execution_count": 5,
   "metadata": {},
   "outputs": [
    {
     "name": "stdout",
     "output_type": "stream",
     "text": [
      "inp: 1\n",
      "out: 0\n",
      "out: 0\n",
      "out: 0\n",
      "out: 0\n",
      "out: 0\n",
      "out: 0\n",
      "out: 0\n",
      "out: 0\n",
      "out: 0\n",
      "out: 12896948\n"
     ]
    }
   ],
   "source": [
    "# partial(_op, op_func, num_params)\n",
    "OPS_PT1 = {\n",
    "    1: partial(op, partial(_math, operator.add), 3),\n",
    "    2: partial(op, partial(_math, operator.mul), 3),\n",
    "    3: partial(op, _inp, 1),\n",
    "    4: partial(op, _out, 1),\n",
    "    99: partial(op, _halt, 0)\n",
    "}\n",
    "\n",
    "def part_1(mem, **kwargs):\n",
    "    return run(OPS_PT1, mem, 0, \"running\", **kwargs)\n",
    "\n",
    "\n",
    "mem = list(map(int, code.split(',')))\n",
    "part_1(mem, _debug=False);"
   ]
  },
  {
   "cell_type": "markdown",
   "metadata": {},
   "source": [
    "## part 2"
   ]
  },
  {
   "cell_type": "code",
   "execution_count": 6,
   "metadata": {
    "scrolled": false
   },
   "outputs": [
    {
     "name": "stdout",
     "output_type": "stream",
     "text": [
      "inp: 5\n",
      "out: 7704130\n"
     ]
    }
   ],
   "source": [
    "# partial(_op, op_func, num_params)\n",
    "OPS_PT2 = {\n",
    "    **OPS_PT1,\n",
    "    5: partial(op, partial(_jump, lambda x: x != 0), 2),\n",
    "    6: partial(op, partial(_jump, lambda x: x == 0), 2),\n",
    "    7: partial(op, partial(_math, operator.lt), 3),\n",
    "    8: partial(op, partial(_math, operator.eq), 3),\n",
    "}\n",
    "\n",
    "def part_2(mem, **kwargs):\n",
    "    return run(OPS_PT2, mem, 0, \"running\", **kwargs)\n",
    "\n",
    "\n",
    "mem = list(map(int, code.split(',')))\n",
    "part_2(mem, _debug=False);"
   ]
  },
  {
   "cell_type": "code",
   "execution_count": null,
   "metadata": {},
   "outputs": [],
   "source": []
  }
 ],
 "metadata": {
  "kernelspec": {
   "display_name": "Python 3",
   "language": "python",
   "name": "python3"
  },
  "language_info": {
   "codemirror_mode": {
    "name": "ipython",
    "version": 3
   },
   "file_extension": ".py",
   "mimetype": "text/x-python",
   "name": "python",
   "nbconvert_exporter": "python",
   "pygments_lexer": "ipython3",
   "version": "3.6.8"
  }
 },
 "nbformat": 4,
 "nbformat_minor": 2
}
