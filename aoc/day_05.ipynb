{
 "cells": [
  {
   "cell_type": "code",
   "execution_count": 1,
   "metadata": {},
   "outputs": [],
   "source": [
    "import operator\n",
    "from functools import partial"
   ]
  },
  {
   "cell_type": "code",
   "execution_count": 2,
   "metadata": {},
   "outputs": [
    {
     "name": "stdout",
     "output_type": "stream",
     "text": [
      "[3, 225, 1, 225, 6, 6, 1100, 1, 238, 225, 104, 0, 1102, 46, 47, 225, 2, 122, 130, 224, 101, -1998, 224, 224, 4, 224, 1002, 223, 8, 223, 1001, 224, 6, 224, 1, 224, 223, 223, 1102, 61, 51, 225, 102, 32, 92, 224, 101, -800, 224, 224, 4, 224, 1002, 223, 8, 223, 1001, 224, 1, 224, 1, 223, 224, 223, 1101, 61, 64, 225, 1001, 118, 25, 224, 101, -106, 224, 224, 4, 224, 1002, 223, 8, 223, 101, 1, 224, 224, 1, 224, 223, 223, 1102, 33, 25, 225, 1102, 73, 67, 224, 101, -4891]\n"
     ]
    }
   ],
   "source": [
    "with open('inputs/day-05.txt', 'r') as f:\n",
    "    parsed = f.read()[:-1]  # drop eof newline\n",
    "\n",
    "code = list(map(int, parsed.split(',')))\n",
    "# print(parsed)\n",
    "print(code[:100])"
   ]
  },
  {
   "cell_type": "markdown",
   "metadata": {},
   "source": [
    "## part 1"
   ]
  },
  {
   "cell_type": "code",
   "execution_count": 3,
   "metadata": {},
   "outputs": [
    {
     "name": "stdout",
     "output_type": "stream",
     "text": [
      "output: 0\n",
      "output: 0\n",
      "output: 0\n",
      "output: 0\n",
      "output: 0\n",
      "output: 0\n",
      "output: 0\n",
      "output: 0\n",
      "output: 0\n",
      "output: 12896948\n",
      "halt\n"
     ]
    }
   ],
   "source": [
    "def pad(n):\n",
    "    return f\"{n:05d}\"\n",
    "\n",
    "\n",
    "def resolve(tape, val, mode):\n",
    "    return tape[val] if mode == 0 else val\n",
    "\n",
    "\n",
    "def _math(func, tape, pointer, params, modes, *args):\n",
    "    a = resolve(tape, params[0], modes[0])\n",
    "    b = resolve(tape, params[1], modes[1])\n",
    "    return int(func(a, b)), params[2], pointer, True\n",
    "\n",
    "\n",
    "def _inp(tape, pointer, params, modes, inp):\n",
    "    return inp, params[0], pointer, True\n",
    "\n",
    "\n",
    "def _out(tape, pointer, params, modes, *args):\n",
    "    val = resolve(tape, params[0], modes[0])\n",
    "    print(\"output:\", val)\n",
    "    return None, None, pointer, True\n",
    "\n",
    "\n",
    "def _exec_pt1(compute_func, num_params, store, tape, pointer, inp=None):\n",
    "\n",
    "    def _modes(n):\n",
    "        d = dict(enumerate(reversed(pad(n)[:3])))\n",
    "        return {k: int(v) for k, v in d.items()}\n",
    "    \n",
    "    modes = _modes(tape[pointer])\n",
    "    params = tape[pointer + 1:pointer + num_params + 1]\n",
    "\n",
    "    val, store_at, pointer, _ = compute_func(tape, pointer, params, modes, inp)\n",
    "\n",
    "    if store:\n",
    "        tape = list(tape)  # deepcopy\n",
    "        tape[store_at] = val\n",
    "        \n",
    "    return tape, (pointer + num_params + 1)\n",
    "\n",
    "\n",
    "def process_pt1(tape, inp, pointer=0):\n",
    "    instructions = {\n",
    "        1: partial(_exec_pt1, partial(_math, operator.add), 3, True),\n",
    "        2: partial(_exec_pt1, partial(_math, operator.mul), 3, True),\n",
    "        3: partial(_exec_pt1, _inp, 1, True),\n",
    "        4: partial(_exec_pt1, _out, 1, False),\n",
    "    }\n",
    "    opcode = int(str(tape[pointer])[-2:])\n",
    "    _tape, _pointer = instructions[opcode](tape, pointer, inp)\n",
    "\n",
    "    if _tape[_pointer] == 99:\n",
    "        print(\"halt\")\n",
    "        return _tape\n",
    "    return process_pt1(_tape, inp, _pointer)\n",
    "\n",
    "\n",
    "process_pt1(code, 1, 0);"
   ]
  },
  {
   "cell_type": "markdown",
   "metadata": {},
   "source": [
    "## part 2"
   ]
  },
  {
   "cell_type": "code",
   "execution_count": 4,
   "metadata": {},
   "outputs": [
    {
     "name": "stdout",
     "output_type": "stream",
     "text": [
      "output: 7704130\n",
      "halt\n"
     ]
    }
   ],
   "source": [
    "def _jump(func, tape, pointer, params, modes, *args):\n",
    "    cond = resolve(tape, params[0], modes[0])\n",
    "    if func(cond):\n",
    "        pointer = resolve(tape, params[1], modes[1])\n",
    "        return None, None, pointer, False\n",
    "    return None, None, pointer, True\n",
    "\n",
    "\n",
    "def _exec_pt2(compute_func, num_params, store, tape, pointer, inp=None):\n",
    "\n",
    "    def _modes(n):\n",
    "        d = dict(enumerate(reversed(pad(n)[:3])))\n",
    "        return {k: int(v) for k, v in d.items()}\n",
    "    \n",
    "    modes = _modes(tape[pointer])\n",
    "    params = tape[pointer + 1:pointer + num_params + 1]\n",
    "\n",
    "    val, store_at, pointer, forward = compute_func(tape, pointer, params, modes, inp)\n",
    "\n",
    "    if store:\n",
    "        tape = list(tape)  # deepcopy\n",
    "        tape[store_at] = val\n",
    "        forward = (pointer != store_at)\n",
    "        \n",
    "    return tape, (pointer + num_params + 1) if forward else pointer\n",
    "\n",
    "\n",
    "def process_pt2(tape, inp, pointer=0):\n",
    "    instructions = {\n",
    "        1: partial(_exec_pt2, partial(_math, operator.add), 3, True),\n",
    "        2: partial(_exec_pt2, partial(_math, operator.mul), 3, True),\n",
    "        3: partial(_exec_pt2, _inp, 1, True),\n",
    "        4: partial(_exec_pt2, _out, 1, False),\n",
    "        5: partial(_exec_pt2, partial(_jump, bool), 2, False),\n",
    "        6: partial(_exec_pt2, partial(_jump, lambda x: not bool(x)), 2, False),\n",
    "        7: partial(_exec_pt2, partial(_math, operator.lt), 3, True),\n",
    "        8: partial(_exec_pt2, partial(_math, operator.eq), 3, True),\n",
    "    }\n",
    "    opcode = int(str(tape[pointer])[-2:])\n",
    "    _tape, _pointer = instructions[opcode](tape, pointer, inp)\n",
    "\n",
    "    if _tape[_pointer] == 99:\n",
    "        print(\"halt\")\n",
    "        return _tape\n",
    "    return process_pt2(_tape, inp, _pointer)\n",
    "\n",
    "\n",
    "process_pt2(code, 5, 0);"
   ]
  },
  {
   "cell_type": "code",
   "execution_count": null,
   "metadata": {},
   "outputs": [],
   "source": []
  }
 ],
 "metadata": {
  "kernelspec": {
   "display_name": "Python 3",
   "language": "python",
   "name": "python3"
  },
  "language_info": {
   "codemirror_mode": {
    "name": "ipython",
    "version": 3
   },
   "file_extension": ".py",
   "mimetype": "text/x-python",
   "name": "python",
   "nbconvert_exporter": "python",
   "pygments_lexer": "ipython3",
   "version": "3.6.8"
  }
 },
 "nbformat": 4,
 "nbformat_minor": 2
}
