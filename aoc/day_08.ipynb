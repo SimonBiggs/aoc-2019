{
 "cells": [
  {
   "cell_type": "code",
   "execution_count": 1,
   "metadata": {
    "scrolled": false
   },
   "outputs": [
    {
     "name": "stdout",
     "output_type": "stream",
     "text": [
      "Found cached input for 2019 day 8\n",
      "2222022022220222222222122222222200222222222002222222222012222222221222222222222222222120222222222022\n"
     ]
    }
   ],
   "source": [
    "import utils\n",
    "inp = utils.get_input(2019, 8)[:-1]\n",
    "print(inp[:100])"
   ]
  },
  {
   "cell_type": "markdown",
   "metadata": {},
   "source": [
    "## part 1"
   ]
  },
  {
   "cell_type": "code",
   "execution_count": 2,
   "metadata": {},
   "outputs": [
    {
     "name": "stdout",
     "output_type": "stream",
     "text": [
      "1572\n"
     ]
    }
   ],
   "source": [
    "def to_layers(s, w, h):\n",
    "    layers = []\n",
    "    i = 0\n",
    "    while i < len(s):\n",
    "        j = i + (w * h)\n",
    "        layers.append(s[i:j])\n",
    "        i = j\n",
    "    return layers\n",
    "\n",
    "\n",
    "def part_1(inp, w, h):\n",
    "    layers = to_layers(inp, w, h)\n",
    "    counts = {i: layer.count('0') for i, layer in enumerate(layers)}\n",
    "    min_layer = min(counts, key=counts.get)\n",
    "\n",
    "    ones = layers[min_layer].count('1')\n",
    "    twos = layers[min_layer].count('2')\n",
    "    return ones * twos\n",
    "\n",
    "print(part_1(inp, 25, 6))"
   ]
  },
  {
   "cell_type": "markdown",
   "metadata": {},
   "source": [
    "## part 2"
   ]
  },
  {
   "cell_type": "code",
   "execution_count": 3,
   "metadata": {},
   "outputs": [
    {
     "name": "stdout",
     "output_type": "stream",
     "text": [
      "∎  ∎ ∎   ∎∎  ∎ ∎∎∎∎ ∎∎∎∎ \n",
      "∎ ∎  ∎   ∎∎  ∎ ∎    ∎    \n",
      "∎∎    ∎ ∎ ∎∎∎∎ ∎∎∎  ∎∎∎  \n",
      "∎ ∎    ∎  ∎  ∎ ∎    ∎    \n",
      "∎ ∎    ∎  ∎  ∎ ∎    ∎    \n",
      "∎  ∎   ∎  ∎  ∎ ∎    ∎∎∎∎ \n"
     ]
    }
   ],
   "source": [
    "def overlay(t):\n",
    "    return ''.join(t).lstrip('2')[0]\n",
    "\n",
    "\n",
    "def to_img(layers):\n",
    "    pixels = zip(*layers)\n",
    "    return ''.join(map(overlay, pixels))\n",
    "\n",
    "\n",
    "def viz(layer, w):\n",
    "    layer = layer.replace('0', ' ').replace('1', '∎')\n",
    "    rows = [layer[i:i + w] for i in range(0, len(layer), w)]\n",
    "    return '\\n'.join(rows)\n",
    "    \n",
    "\n",
    "def part_2(inp, w, h):\n",
    "    layers = to_layers(inp, w, h)\n",
    "    img = to_img(layers)\n",
    "    return viz(img, w)\n",
    "\n",
    "\n",
    "print(part_2(inp, 25, 6))"
   ]
  },
  {
   "cell_type": "code",
   "execution_count": null,
   "metadata": {},
   "outputs": [],
   "source": []
  }
 ],
 "metadata": {
  "kernelspec": {
   "display_name": "Python 3",
   "language": "python",
   "name": "python3"
  },
  "language_info": {
   "codemirror_mode": {
    "name": "ipython",
    "version": 3
   },
   "file_extension": ".py",
   "mimetype": "text/x-python",
   "name": "python",
   "nbconvert_exporter": "python",
   "pygments_lexer": "ipython3",
   "version": "3.6.8"
  }
 },
 "nbformat": 4,
 "nbformat_minor": 2
}
