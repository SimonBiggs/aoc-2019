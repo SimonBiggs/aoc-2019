{
 "cells": [
  {
   "cell_type": "code",
   "execution_count": 1,
   "metadata": {
    "scrolled": false
   },
   "outputs": [
    {
     "name": "stdout",
     "output_type": "stream",
     "text": [
      "Found cached input for 2019 day 16\n",
      "597287761378319644079739620021909067663226593034795645185022546857060257958248729014658387824740\n"
     ]
    }
   ],
   "source": [
    "import utils\n",
    "raw = utils.get_input(2019, 16)[:-1]\n",
    "print(raw[:96])"
   ]
  },
  {
   "cell_type": "code",
   "execution_count": 2,
   "metadata": {},
   "outputs": [
    {
     "name": "stdout",
     "output_type": "stream",
     "text": [
      "76795888\n"
     ]
    }
   ],
   "source": [
    "from itertools import chain, cycle\n",
    "\n",
    "def part_1(raw):\n",
    "    inp = list(map(int, list(raw)))\n",
    "    base_pat = [0, 1, 0, -1]\n",
    "\n",
    "    for i in range(100):\n",
    "        l = []\n",
    "        for n in range(1, len(raw) + 1):\n",
    "            pat = cycle(list(chain(*[n * [x] for x in base_pat])))\n",
    "            next(pat)\n",
    "            l.append(int(str(sum([a * b for a, b in zip(inp, pat)]))[-1]))\n",
    "        inp = l\n",
    "    return ''.join(map(str, inp))[:8]\n",
    "\n",
    "print(part_1(raw))"
   ]
  },
  {
   "cell_type": "code",
   "execution_count": 3,
   "metadata": {},
   "outputs": [
    {
     "name": "stdout",
     "output_type": "stream",
     "text": [
      "84024125\n"
     ]
    }
   ],
   "source": [
    "def part_2(raw):\n",
    "    inp = list(map(int, raw)) * 10000\n",
    "    offset = int(raw[:7])\n",
    "\n",
    "    assert offset >= (len(inp) / 2)\n",
    "\n",
    "    for _ in range(100):\n",
    "        csum = 0\n",
    "        for n in range(len(inp) - 1, offset - 1, -1):\n",
    "            csum += inp[n]\n",
    "            inp[n] = csum % 10\n",
    "    return ''.join(map(str, inp[offset:offset + 8]))\n",
    "\n",
    "print(part_2(raw))"
   ]
  },
  {
   "cell_type": "code",
   "execution_count": null,
   "metadata": {},
   "outputs": [],
   "source": []
  }
 ],
 "metadata": {
  "kernelspec": {
   "display_name": "Python 3",
   "language": "python",
   "name": "python3"
  },
  "language_info": {
   "codemirror_mode": {
    "name": "ipython",
    "version": 3
   },
   "file_extension": ".py",
   "mimetype": "text/x-python",
   "name": "python",
   "nbconvert_exporter": "python",
   "pygments_lexer": "ipython3",
   "version": "3.6.8"
  }
 },
 "nbformat": 4,
 "nbformat_minor": 2
}
