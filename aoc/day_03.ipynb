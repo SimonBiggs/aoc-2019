{
 "cells": [
  {
   "cell_type": "code",
   "execution_count": 1,
   "metadata": {
    "scrolled": true
   },
   "outputs": [
    {
     "name": "stdout",
     "output_type": "stream",
     "text": [
      "['R1010', 'D422', 'L354', 'U494', 'L686', 'U894', 'R212', 'U777', 'L216', 'U9']\n",
      "['L1010', 'D698', 'R442', 'U660', 'L719', 'U702', 'L456', 'D86', 'R938', 'D177']\n"
     ]
    }
   ],
   "source": [
    "with open('data/day-03-input.txt', 'r') as f:\n",
    "    parsed = f.read()[:-1]  # drop eof newline\n",
    "\n",
    "wires = list(map(lambda x: x.split(','), parsed.split('\\n')))\n",
    "print(wires[0][:10])\n",
    "print(wires[1][:10])"
   ]
  },
  {
   "cell_type": "markdown",
   "metadata": {},
   "source": [
    "## part 1"
   ]
  },
  {
   "cell_type": "code",
   "execution_count": 2,
   "metadata": {},
   "outputs": [
    {
     "name": "stdout",
     "output_type": "stream",
     "text": [
      "806\n"
     ]
    }
   ],
   "source": [
    "from itertools import repeat, chain\n",
    "from collections import Counter\n",
    "\n",
    "\n",
    "def trace(lst):\n",
    "\n",
    "    signs = {'R': 1, 'L': -1, 'U': 1, 'D': -1}\n",
    "    curr = (0, 0)\n",
    "    points = [curr]\n",
    "\n",
    "    for segment in lst:\n",
    "        direction, steps = segment[0], int(segment[1:]) + 1\n",
    "        s = signs[direction]\n",
    "\n",
    "        if direction in ['R', 'L']:\n",
    "            line = zip(range(curr[0] + (s * 1), curr[0] + (s * steps), s), repeat(curr[1]))\n",
    "        elif direction in ['U', 'D']:\n",
    "            line = zip(repeat(curr[0]), range(curr[1] + (s * 1), curr[1] + (s * steps), s))\n",
    "        else:\n",
    "            raise ValueError(segment)\n",
    "\n",
    "        points.extend(line)\n",
    "        curr = points[-1]\n",
    "\n",
    "    return points\n",
    "\n",
    "\n",
    "def intersections(points):\n",
    "    # set() since don't count wire crossing itself\n",
    "    counts = Counter(chain(*map(set, points)))\n",
    "    return (el for el, num in counts.most_common() if num > 1)\n",
    "\n",
    "\n",
    "def manhattan(dst, src=(0, 0)):\n",
    "    return abs(dst[0] - src[0]) + abs(dst[1] - src[1])\n",
    "\n",
    "\n",
    "def part_1(wires):\n",
    "    points = map(trace, wires)\n",
    "    inters = intersections(points)\n",
    "    dist = map(manhattan, inters)\n",
    "    return sorted(dist)[1:]\n",
    "\n",
    "\n",
    "print(part_1(wires)[0])"
   ]
  },
  {
   "cell_type": "code",
   "execution_count": 3,
   "metadata": {},
   "outputs": [
    {
     "name": "stdout",
     "output_type": "stream",
     "text": [
      "66076\n"
     ]
    }
   ],
   "source": [
    "from itertools import takewhile\n",
    "\n",
    "\n",
    "def steps(dest, *wires):\n",
    "    def _steps(wire):\n",
    "        return len(list(takewhile(lambda t: t != (dest), wire)))\n",
    "    return sum(map(_steps, wires))\n",
    "\n",
    "\n",
    "def part_2(wires):\n",
    "    points = list(map(trace, wires))\n",
    "    inters_steps = map(lambda dest: steps(dest, *points), intersections(points))\n",
    "    return sorted(inters_steps)[1:]\n",
    "\n",
    "\n",
    "print(part_2(wires)[0])"
   ]
  },
  {
   "cell_type": "code",
   "execution_count": null,
   "metadata": {},
   "outputs": [],
   "source": []
  }
 ],
 "metadata": {
  "kernelspec": {
   "display_name": "Python 3",
   "language": "python",
   "name": "python3"
  },
  "language_info": {
   "codemirror_mode": {
    "name": "ipython",
    "version": 3
   },
   "file_extension": ".py",
   "mimetype": "text/x-python",
   "name": "python",
   "nbconvert_exporter": "python",
   "pygments_lexer": "ipython3",
   "version": "3.6.8"
  }
 },
 "nbformat": 4,
 "nbformat_minor": 2
}
