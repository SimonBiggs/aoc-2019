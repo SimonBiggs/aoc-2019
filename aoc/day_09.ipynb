{
 "cells": [
  {
   "cell_type": "code",
   "execution_count": 1,
   "metadata": {
    "scrolled": false
   },
   "outputs": [
    {
     "name": "stdout",
     "output_type": "stream",
     "text": [
      "Found cached input for 2019 day 9\n",
      "1102,34463338,34463338,63,1007,63,34463338,63,1005,63,53,1102,3,1,1000,109,988,209,12,9,1000,209\n"
     ]
    }
   ],
   "source": [
    "import utils\n",
    "inp = utils.get_input(2019, 9)[:-1]\n",
    "print(inp[:96])"
   ]
  },
  {
   "cell_type": "markdown",
   "metadata": {},
   "source": [
    "## machine"
   ]
  },
  {
   "cell_type": "code",
   "execution_count": 2,
   "metadata": {},
   "outputs": [],
   "source": [
    "import operator\n",
    "from functools import partial\n",
    "from itertools import repeat, chain\n",
    "from collections import namedtuple, defaultdict\n",
    "\n",
    "\n",
    "class IntCode:\n",
    "    Op = namedtuple('Op', ['func', 'params', 'resolve_last_as_ptr'])\n",
    "\n",
    "    def __init__(self, program, pointer=0, rel_base=0, **kwargs):\n",
    "        self._mem = defaultdict(int, enumerate(program))\n",
    "        self.ptr = pointer\n",
    "        self.rel = rel_base\n",
    "        self.state = \"started\"\n",
    "        self.output = None\n",
    "        self._kwargs = kwargs\n",
    "        self._ops = {\n",
    "            1: IntCode.Op(partial(IntCode._math, operator.add), 3, True),\n",
    "            2: IntCode.Op(partial(IntCode._math, operator.mul), 3, True),\n",
    "            3: IntCode.Op(IntCode._inp, 1, True),\n",
    "            4: IntCode.Op(IntCode._out, 1, False),\n",
    "            5: IntCode.Op(partial(IntCode._jump, lambda x: x != 0), 2, False),\n",
    "            6: IntCode.Op(partial(IntCode._jump, lambda x: x == 0), 2, False),\n",
    "            7: IntCode.Op(partial(IntCode._math, operator.lt), 3, True),\n",
    "            8: IntCode.Op(partial(IntCode._math, operator.eq), 3, True),\n",
    "            9: IntCode.Op(IntCode._base, 1, False),\n",
    "            99: IntCode.Op(IntCode._halt, 0, False),\n",
    "        }\n",
    "\n",
    "    @property\n",
    "    def mem(self):\n",
    "        return list(self._mem.values())\n",
    "\n",
    "    def run(self, inputs=None):\n",
    "        inputs = iter(inputs or [])\n",
    "\n",
    "        while self.state != \"halted\":\n",
    "            instruction = self._mem[self.ptr]\n",
    "            opcode, modes = self._opcode(instruction), self._modes(instruction)\n",
    "            op = self._ops[opcode]\n",
    "            params_raw = [self._mem[i] for i in range(self.ptr + 1, self.ptr + op.params + 1)]\n",
    "            params = self.resolve(params_raw, modes, op.resolve_last_as_ptr)\n",
    "\n",
    "            orig_ptr = self.ptr\n",
    "            self._mem, self.ptr, self.rel, output, self.state = \\\n",
    "                op.func(self._mem, self.ptr, self.rel, *params, inputs=inputs, **self._kwargs)\n",
    "            self.output = output if output is not None else self.output\n",
    "\n",
    "            if self._kwargs.get('_debug', False):\n",
    "                print(f\"{instruction},{','.join(map(str, params_raw))}\",\n",
    "                      f\"-> {opcode:2d} {modes} {params}\",\n",
    "                      f\"-> {output, self.ptr, self.rel}\")\n",
    "\n",
    "            if (output is not None) or (self.state == \"blocked\"):\n",
    "                yield self\n",
    "\n",
    "            if self.ptr == orig_ptr:\n",
    "                self.ptr = self.ptr + op.params + 1\n",
    "        yield self\n",
    "\n",
    "    def resolve(self, params, modes, resolve_last_as_ptr):\n",
    "        def _resolve(p, m, as_ptr):\n",
    "            if int(m) == 0:\n",
    "                return self._mem[p] if not as_ptr else p\n",
    "            elif int(m) == 2:\n",
    "                return self._mem[self.rel + p] if not as_ptr else self.rel + p\n",
    "            return p\n",
    "        resolve_as_ptr = chain(repeat(False, len(params) - 1), [resolve_last_as_ptr])\n",
    "        return list(map(lambda t: _resolve(*t), zip(params, modes, resolve_as_ptr)))\n",
    "\n",
    "    @staticmethod\n",
    "    def _opcode(instruction):\n",
    "        return int(str(instruction)[-2:])\n",
    "\n",
    "    @staticmethod\n",
    "    def _modes(instruction):\n",
    "        return f\"{instruction:05d}\"[:3][::-1]\n",
    "    \n",
    "    # operations\n",
    "    \n",
    "    @staticmethod\n",
    "    def _math(func, mem, ptr, rel, a, b, out, **kwargs):\n",
    "        mem[out] = int(func(a, b))\n",
    "        return mem, ptr, rel, None, \"running\"\n",
    "\n",
    "    @staticmethod\n",
    "    def _inp(mem, ptr, rel, out, inputs, **kwargs):\n",
    "        try:\n",
    "            mem[out] = int(next(inputs))\n",
    "            return mem, ptr, rel, None, \"running\"\n",
    "        except StopIteration:\n",
    "            return mem, ptr, rel, None, \"blocked\"\n",
    "\n",
    "    @staticmethod\n",
    "    def _out(mem, ptr, rel, val, **kwargs):\n",
    "        return mem, ptr, rel, val, \"running\"\n",
    "\n",
    "    @staticmethod\n",
    "    def _jump(func, mem, ptr, rel, cond, val, **kwargs):\n",
    "        return mem, (val if func(cond) else ptr), rel, None, \"running\"\n",
    "\n",
    "    @staticmethod\n",
    "    def _base(mem, ptr, rel, val, **kwargs):\n",
    "        return mem, ptr, (rel + val), None, \"running\"\n",
    "    \n",
    "    @staticmethod\n",
    "    def _halt(mem, ptr, rel, *args, **kwargs):\n",
    "        return mem, ptr, rel, None, \"halted\"\n"
   ]
  },
  {
   "cell_type": "code",
   "execution_count": 3,
   "metadata": {},
   "outputs": [],
   "source": [
    "def execute(program, inputs):\n",
    "    vm = IntCode(program, _debug=False)\n",
    "    vm_gen = vm.run(inputs)\n",
    "    while True:\n",
    "        vm = next(vm_gen)\n",
    "        if vm.state == \"halted\":\n",
    "            break\n",
    "    return vm.output\n"
   ]
  },
  {
   "cell_type": "markdown",
   "metadata": {},
   "source": [
    "## part 1"
   ]
  },
  {
   "cell_type": "code",
   "execution_count": 4,
   "metadata": {
    "scrolled": false
   },
   "outputs": [
    {
     "name": "stdout",
     "output_type": "stream",
     "text": [
      "3765554916\n"
     ]
    }
   ],
   "source": [
    "def part_1(program):\n",
    "    return execute(program, [1])\n",
    "\n",
    "\n",
    "program = list(map(int, inp.split(',')))\n",
    "print(part_1(program))"
   ]
  },
  {
   "cell_type": "markdown",
   "metadata": {},
   "source": [
    "## part 2"
   ]
  },
  {
   "cell_type": "code",
   "execution_count": 5,
   "metadata": {},
   "outputs": [
    {
     "name": "stdout",
     "output_type": "stream",
     "text": [
      "76642\n"
     ]
    }
   ],
   "source": [
    "def part_2(program):\n",
    "    return execute(program, [2])\n",
    "\n",
    "\n",
    "program = list(map(int, inp.split(',')))\n",
    "print(part_2(program))"
   ]
  },
  {
   "cell_type": "code",
   "execution_count": null,
   "metadata": {},
   "outputs": [],
   "source": []
  }
 ],
 "metadata": {
  "kernelspec": {
   "display_name": "Python 3",
   "language": "python",
   "name": "python3"
  },
  "language_info": {
   "codemirror_mode": {
    "name": "ipython",
    "version": 3
   },
   "file_extension": ".py",
   "mimetype": "text/x-python",
   "name": "python",
   "nbconvert_exporter": "python",
   "pygments_lexer": "ipython3",
   "version": "3.6.8"
  }
 },
 "nbformat": 4,
 "nbformat_minor": 2
}
