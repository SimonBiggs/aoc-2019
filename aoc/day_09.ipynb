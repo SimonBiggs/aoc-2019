{
 "cells": [
  {
   "cell_type": "code",
   "execution_count": 1,
   "metadata": {
    "scrolled": false
   },
   "outputs": [
    {
     "name": "stdout",
     "output_type": "stream",
     "text": [
      "Found cached input for 2019 day 9\n",
      "1102,34463338,34463338,63,1007,63,34463338,63,1005,63,53,1102,3,1,1000,109,988,209,12,9,1000,209,6,209,3,203,0,1008,1000,1,63,1005,63,65,1008,1000,2,63,1005,63,904,1008,1000,0,63,1005,63,58,4,25,104,0,99,4,0,104,0,99,4,17,104,0,99,0,0,1102,1,30,1010,1102,1,38,1008,1102,1,0,1020,1102,22,1,1007,1102,26,1,1015,1102,31,1,1013,1102,1,27,1014,1101,0,23,1012,1101,0,37,1006,1102,735,1,1028,1102,1,24,1009,1102,1,28,1019,1102,20,1,1017,1101,34,0,1001,1101,259,0,1026,1101,0,33,1018,1102,1,901,1024,1101,21,0,1016,1101,36,0,1011,1102,730,1,1029,1101,1,0,1021,1102,1,509,1022,1102,39,1,1005,1101,35,0,1000,1102,1,506,1023,1101,0,892,1025,1101,256,0,1027,1101,25,0,1002,1102,1,29,1004,1102,32,1,1003,109,9,1202,-3,1,63,1008,63,39,63,1005,63,205,1001,64,1,64,1106,0,207,4,187,1002,64,2,64,109,-2,1208,-4,35,63,1005,63,227,1001,64,1,64,1105,1,229,4,213,1002,64,2,64,109,5,1206,8,243,4,235,1106,0,247,1001,64,1,64,1002,64,2,64,109,14,2106,0,1,1105,1,265,4,253,1001,64,1,64,1002,64,2,64,109,-25,1201,4,0,63,1008,63,40,63,1005,63,285,1106,0,291,4,271,1001,64,1,64,1002,64,2,64,109,14,2107,37,-7,63,1005,63,313,4,297,1001,64,1,64,1106,0,313,1002,64,2,64,109,-7,21101,40,0,5,1008,1013,37,63,1005,63,333,1105,1,339,4,319,1001,64,1,64,1002,64,2,64,109,-7,1207,0,33,63,1005,63,355,1106,0,361,4,345,1001,64,1,64,1002,64,2,64,109,7,21102,41,1,9,1008,1017,41,63,1005,63,387,4,367,1001,64,1,64,1106,0,387,1002,64,2,64,109,-1,21102,42,1,10,1008,1017,43,63,1005,63,411,1001,64,1,64,1106,0,413,4,393,1002,64,2,64,109,-5,21101,43,0,8,1008,1010,43,63,1005,63,435,4,419,1106,0,439,1001,64,1,64,1002,64,2,64,109,16,1206,3,455,1001,64,1,64,1106,0,457,4,445,1002,64,2,64,109,-8,21107,44,45,7,1005,1017,479,4,463,1001,64,1,64,1106,0,479,1002,64,2,64,109,6,1205,5,497,4,485,1001,64,1,64,1106,0,497,1002,64,2,64,109,1,2105,1,6,1105,1,515,4,503,1001,64,1,64,1002,64,2,64,109,-10,2108,36,-1,63,1005,63,535,1001,64,1,64,1105,1,537,4,521,1002,64,2,64,109,-12,2101,0,6,63,1008,63,32,63,1005,63,561,1001,64,1,64,1105,1,563,4,543,1002,64,2,64,109,25,21108,45,46,-2,1005,1018,583,1001,64,1,64,1105,1,585,4,569,1002,64,2,64,109,-23,2108,34,4,63,1005,63,607,4,591,1001,64,1,64,1106,0,607,1002,64,2,64,109,3,1202,7,1,63,1008,63,22,63,1005,63,633,4,613,1001,64,1,64,1106,0,633,1002,64,2,64,109,12,21108,46,46,3,1005,1015,651,4,639,1106,0,655,1001,64,1,64,1002,64,2,64,109,-5,2102,1,-1,63,1008,63,35,63,1005,63,679,1001,64,1,64,1105,1,681,4,661,1002,64,2,64,109,13,21107,47,46,-7,1005,1013,701,1001,64,1,64,1105,1,703,4,687,1002,64,2,64,109,-2,1205,2,715,1106,0,721,4,709,1001,64,1,64,1002,64,2,64,109,17,2106,0,-7,4,727,1105,1,739,1001,64,1,64,1002,64,2,64,109,-23,2107,38,-6,63,1005,63,759,1001,64,1,64,1106,0,761,4,745,1002,64,2,64,109,-3,1207,-4,40,63,1005,63,779,4,767,1105,1,783,1001,64,1,64,1002,64,2,64,109,-8,2101,0,-1,63,1008,63,35,63,1005,63,809,4,789,1001,64,1,64,1105,1,809,1002,64,2,64,109,-6,2102,1,8,63,1008,63,32,63,1005,63,835,4,815,1001,64,1,64,1106,0,835,1002,64,2,64,109,6,1201,5,0,63,1008,63,37,63,1005,63,857,4,841,1106,0,861,1001,64,1,64,1002,64,2,64,109,2,1208,0,32,63,1005,63,883,4,867,1001,64,1,64,1106,0,883,1002,64,2,64,109,23,2105,1,-2,4,889,1001,64,1,64,1106,0,901,4,64,99,21102,27,1,1,21101,0,915,0,1106,0,922,21201,1,55337,1,204,1,99,109,3,1207,-2,3,63,1005,63,964,21201,-2,-1,1,21101,0,942,0,1105,1,922,21202,1,1,-1,21201,-2,-3,1,21102,957,1,0,1105,1,922,22201,1,-1,-2,1106,0,968,21201,-2,0,-2,109,-3,2105,1,0\n"
     ]
    }
   ],
   "source": [
    "import utils\n",
    "inp = utils.get_input(2019, 9)[:-1]\n",
    "print(inp)"
   ]
  },
  {
   "cell_type": "markdown",
   "metadata": {},
   "source": [
    "## machine"
   ]
  },
  {
   "cell_type": "code",
   "execution_count": 2,
   "metadata": {},
   "outputs": [
    {
     "data": {
      "text/plain": [
       "0"
      ]
     },
     "execution_count": 2,
     "metadata": {},
     "output_type": "execute_result"
    }
   ],
   "source": [
    "from collections import defaultdict\n",
    "\n",
    "mem = [1,2,3]\n",
    "d = defaultdict(int, enumerate(mem))\n",
    "d[0]\n",
    "d[4]"
   ]
  },
  {
   "cell_type": "code",
   "execution_count": 58,
   "metadata": {},
   "outputs": [],
   "source": [
    "import operator\n",
    "from functools import partial\n",
    "from itertools import repeat, chain\n",
    "from collections import namedtuple, defaultdict\n",
    "from copy import deepcopy\n",
    "\n",
    "\n",
    "class IntCode:\n",
    "    Op = namedtuple('Op', ['func', 'num_params', 'write_param', 'resolve_modes'])\n",
    "\n",
    "    def __init__(self, program, pointer=0, rel_base=0, **kwargs):\n",
    "        self.mem = defaultdict(int, enumerate(program))\n",
    "#         print(self.mem)\n",
    "        self.pointer = pointer\n",
    "        self.rel_base = rel_base\n",
    "        self.state = \"started\"\n",
    "        self.output = None\n",
    "        self._kwargs = kwargs\n",
    "        self._ops = {\n",
    "            1: IntCode.Op(partial(IntCode._math, operator.add), 3, True, True),\n",
    "            2: IntCode.Op(partial(IntCode._math, operator.mul), 3, True, True),\n",
    "            3: IntCode.Op(IntCode._inp, 1, True, True),\n",
    "            4: IntCode.Op(IntCode._out, 1, False, True),\n",
    "            5: IntCode.Op(partial(IntCode._jump, lambda x: x != 0), 2, False, True),\n",
    "            6: IntCode.Op(partial(IntCode._jump, lambda x: x == 0), 2, False, True),\n",
    "            7: IntCode.Op(partial(IntCode._math, operator.lt), 3, True, True),\n",
    "            8: IntCode.Op(partial(IntCode._math, operator.eq), 3, True, True),\n",
    "            9: IntCode.Op(IntCode._base, 1, False, True),\n",
    "            99: IntCode.Op(IntCode._halt, 0, False, False),\n",
    "        }\n",
    "\n",
    "    def run(self, inputs=None):\n",
    "        inputs = iter(inputs or [])\n",
    "\n",
    "        while self.state != \"halted\":\n",
    "            instruction = self.mem[self.pointer]\n",
    "            opcode, modes = self._opcode(instruction), self._modes(instruction)\n",
    "            op = self._ops[opcode]\n",
    "            params = [self.mem[i] for i in range(self.pointer + 1, self.pointer + op.num_params + 1)]\n",
    "            raw_params = list(params)\n",
    "\n",
    "            if op.resolve_modes:\n",
    "                if opcode in [1, 2, 7, 8]:\n",
    "                    params[0] = self._resolve(self.mem, self.rel_base, params[0], modes[0], True)\n",
    "                    params[1] = self._resolve(self.mem, self.rel_base, params[1], modes[1], True)\n",
    "                    params[2] = self._resolve(self.mem, self.rel_base, params[2], modes[2], False)\n",
    "                elif opcode in [5, 6]:\n",
    "                    params[0] = self._resolve(self.mem, self.rel_base, params[0], modes[0], True)\n",
    "                    params[1] = self._resolve(self.mem, self.rel_base, params[1], modes[1], True)\n",
    "                elif opcode in [3]:\n",
    "                    params[0] = self._resolve(self.mem, self.rel_base, params[0], modes[0], False)\n",
    "                elif opcode in [4, 9]:\n",
    "                    params[0] = self._resolve(self.mem, self.rel_base, params[0], modes[0], True)\n",
    "                    \n",
    "                    \n",
    "#                 wparam = -int(op.write_param) or len(params)# if len(params) > 1 else len(params)\n",
    "# #                 if instruction == 1102:\n",
    "# #                     print(opcode, modes, params, wparam)\n",
    "#                 args = zip(repeat(self.mem), repeat(self.rel_base), params[:wparam], modes[:wparam])\n",
    "#                 params[:wparam] = map(lambda t: IntCode._resolve(*t), args)\n",
    "#             if instruction == 203:\n",
    "#                 print(self.mem)\n",
    "            if self._kwargs.get('_debug', False):\n",
    "                print(f\"{instruction:5d}\", raw_params, f\"{opcode:2d}\", modes, list(params), end='')\n",
    "\n",
    "            orig_pointer = self.pointer\n",
    "            self.mem, self.pointer, self.rel_base, output, self.state = \\\n",
    "                op.func(self.mem, self.pointer, self.rel_base, *params, inputs=inputs, **self._kwargs)\n",
    "            self.output = output if output is not None else self.output\n",
    "\n",
    "            if self._kwargs.get('_debug', False):\n",
    "                print(f\" -> {output, self.pointer, self.rel_base}\")\n",
    "\n",
    "            if (output is not None) or (self.state == \"blocked\"):\n",
    "                yield self\n",
    "\n",
    "            if self.pointer == orig_pointer:\n",
    "                self.pointer = self.pointer + op.num_params + 1\n",
    "        yield self\n",
    "\n",
    "    @staticmethod\n",
    "    def _resolve(mem, rel_base, val, mode, param=True):\n",
    "        if int(mode) == 0:\n",
    "            return mem[val] if param else val\n",
    "        elif int(mode) == 2:\n",
    "            assert (rel_base + val) >= 0\n",
    "            return mem[val + rel_base] if param else (val + rel_base)\n",
    "        else:\n",
    "            return val\n",
    "\n",
    "    @staticmethod\n",
    "    def _opcode(instruction):\n",
    "        return int(str(instruction)[-2:])\n",
    "\n",
    "    @staticmethod\n",
    "    def _modes(instruction):\n",
    "        return f\"{instruction:05d}\"[:3][::-1]\n",
    "\n",
    "    @staticmethod\n",
    "    def _math(func, mem, pointer, rel_base, a, b, out, **kwargs):\n",
    "#         _mem = deepcopy(mem)\n",
    "        _mem = mem\n",
    "        _mem[out] = int(func(a, b))\n",
    "        return _mem, pointer, rel_base, None, \"running\"\n",
    "\n",
    "    @staticmethod\n",
    "    def _jump(func, mem, pointer, rel_base, cond, val, **kwargs):\n",
    "        return mem, (val if func(cond) else pointer), rel_base, None, \"running\"\n",
    "\n",
    "    @staticmethod\n",
    "    def _base(mem, pointer, rel_base, val, **kwargs):\n",
    "        return mem, pointer, (rel_base + val), None, \"running\"\n",
    "\n",
    "    @staticmethod\n",
    "    def _inp(mem, pointer, rel_base, out, inputs, **kwargs):\n",
    "        try:\n",
    "#             _mem = deepcopy(mem)\n",
    "            _mem = mem\n",
    "            _mem[out] = int(next(inputs))\n",
    "            return _mem, pointer, rel_base, None, \"running\"\n",
    "        except StopIteration:\n",
    "            return mem, pointer, rel_base, None, \"blocked\"\n",
    "\n",
    "    @staticmethod\n",
    "    def _out(mem, pointer, rel_base, val, **kwargs):\n",
    "#         if kwargs.get('_debug', False):\n",
    "#             print(f\"out: {val}\")\n",
    "        return mem, pointer, rel_base, val, \"running\"\n",
    "\n",
    "    @staticmethod\n",
    "    def _halt(mem, pointer, rel_base, *args, **kwargs):\n",
    "        return mem, pointer, rel_base, None, \"halted\"\n"
   ]
  },
  {
   "cell_type": "code",
   "execution_count": 61,
   "metadata": {
    "scrolled": true
   },
   "outputs": [
    {
     "name": "stdout",
     "output_type": "stream",
     "text": [
      "76642\n"
     ]
    }
   ],
   "source": [
    "program = list(map(int, inp.split(',')))\n",
    "# program = [109,1,204,-1,1001,100,1,100,1008,100,16,101,1006,101,0,99]\n",
    "# program = [1102,34915192,34915192,7,4,7,99,0]\n",
    "# program = [104,1125899906842624,99]\n",
    "# program = [109,19,204,-34,99]\n",
    "vm = IntCode(program, _debug=False).run([2])\n",
    "while True:\n",
    "    out = next(vm)\n",
    "#     print(out.pointer)\n",
    "#     print(out.state)\n",
    "#     print(out.rel_base)\n",
    "    if out.state == \"halted\":\n",
    "        break\n",
    "#     print(out.rel_base)\n",
    "    print(out.output)\n",
    "#     print(sorted(out.mem))\n",
    "#     print(out.pointer)\n",
    "# print(out.output)"
   ]
  },
  {
   "cell_type": "code",
   "execution_count": null,
   "metadata": {},
   "outputs": [],
   "source": []
  }
 ],
 "metadata": {
  "kernelspec": {
   "display_name": "Python 3",
   "language": "python",
   "name": "python3"
  },
  "language_info": {
   "codemirror_mode": {
    "name": "ipython",
    "version": 3
   },
   "file_extension": ".py",
   "mimetype": "text/x-python",
   "name": "python",
   "nbconvert_exporter": "python",
   "pygments_lexer": "ipython3",
   "version": "3.6.8"
  }
 },
 "nbformat": 4,
 "nbformat_minor": 2
}
