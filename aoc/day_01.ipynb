{
 "cells": [
  {
   "cell_type": "code",
   "execution_count": 1,
   "metadata": {},
   "outputs": [
    {
     "name": "stdout",
     "output_type": "stream",
     "text": [
      "['119999', '91521', '89801', '130090', '102972', '105759', '70245', '95495', '73450', '90086', '138436', '52396', '115670', '113377', '125785', '97391', '124026', '69589', '129465', '86558', '84965', '142913', '113321', '61846', '53254', '105137', '146619', '105189', '98695', '142954', '105687', '82914', '112587', '92957', '114368', '70890', '89841', '90021', '125835', '119440', '97685', '74632', '94360', '113110', '118476', '122446', '64676', '54826', '107922', '147010', '127842', '96722', '144728', '128157', '85312', '105017', '99720', '54435', '102045', '76770', '116056', '60020', '59791', '79334', '144327', '133481', '83779', '105009', '101987', '77503', '70205', '84060', '143368', '82070', '94490', '78175', '109928', '116643', '107194', '147042', '138765', '54588', '97584', '95386', '106820', '71636', '115829', '133106', '77572', '142554', '131055', '122610', '53108', '130864', '71349', '114666', '56816', '86442', '146255', '145861']\n"
     ]
    }
   ],
   "source": [
    "with open('inputs/day-01.txt', 'r') as f:\n",
    "    input_ = f.read().split('\\n')[:-1]\n",
    "print(input_)"
   ]
  },
  {
   "cell_type": "markdown",
   "metadata": {},
   "source": [
    "## part 1"
   ]
  },
  {
   "cell_type": "code",
   "execution_count": 2,
   "metadata": {},
   "outputs": [
    {
     "name": "stdout",
     "output_type": "stream",
     "text": [
      "3394689\n"
     ]
    }
   ],
   "source": [
    "def compute_fuel_pt1(mass):\n",
    "    \"\"\"take its mass, divide by three, round down, and subtract 2\"\"\"\n",
    "    return (mass // 3) - 2\n",
    "\n",
    "modules = map(int, input_)\n",
    "fuels = map(compute_fuel_pt1, modules)\n",
    "print(sum(fuels))"
   ]
  },
  {
   "cell_type": "markdown",
   "metadata": {},
   "source": [
    "## part 2"
   ]
  },
  {
   "cell_type": "code",
   "execution_count": 3,
   "metadata": {},
   "outputs": [
    {
     "name": "stdout",
     "output_type": "stream",
     "text": [
      "5089160\n"
     ]
    }
   ],
   "source": [
    "def compute_fuel_pt2(mass):\n",
    "    \"\"\"for each module mass, calculate its fuel and add it to the total.\n",
    "    Then, treat the fuel amount you just calculated as the input mass and repeat\n",
    "    the process, continuing until a fuel requirement is zero or negative.\"\"\"\n",
    "    fuel = (mass // 3) - 2\n",
    "    if fuel < 0:\n",
    "        return 0\n",
    "    return fuel + compute_fuel_pt2(fuel)\n",
    "\n",
    "modules = map(int, input_)\n",
    "fuels = map(compute_fuel_pt2, modules)\n",
    "print(sum(fuels))"
   ]
  },
  {
   "cell_type": "code",
   "execution_count": null,
   "metadata": {},
   "outputs": [],
   "source": []
  }
 ],
 "metadata": {
  "kernelspec": {
   "display_name": "Python 3",
   "language": "python",
   "name": "python3"
  },
  "language_info": {
   "codemirror_mode": {
    "name": "ipython",
    "version": 3
   },
   "file_extension": ".py",
   "mimetype": "text/x-python",
   "name": "python",
   "nbconvert_exporter": "python",
   "pygments_lexer": "ipython3",
   "version": "3.6.8"
  }
 },
 "nbformat": 4,
 "nbformat_minor": 2
}
