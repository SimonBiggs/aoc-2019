{
 "cells": [
  {
   "cell_type": "code",
   "execution_count": 1,
   "metadata": {},
   "outputs": [],
   "source": [
    "import io\n",
    "import re\n",
    "from functools import partial\n",
    "from contextlib import redirect_stdout"
   ]
  },
  {
   "cell_type": "code",
   "execution_count": 2,
   "metadata": {
    "scrolled": false
   },
   "outputs": [
    {
     "name": "stdout",
     "output_type": "stream",
     "text": [
      "Found cached input for 2019 day 7\n",
      "3,8,1001,8,10,8,105,1,0,0,21,30,55,80,101,118,199,280,361,442,99999,3,9,101,4,9,9,4,9,99,3,9,101,4,9\n"
     ]
    }
   ],
   "source": [
    "import utils\n",
    "inp = utils.get_input(2019, 7)[:-1]\n",
    "print(inp[:100])"
   ]
  },
  {
   "cell_type": "markdown",
   "metadata": {},
   "source": [
    "## machine"
   ]
  },
  {
   "cell_type": "code",
   "execution_count": 3,
   "metadata": {},
   "outputs": [],
   "source": [
    "# f(mem: List[int], pointer: int, params: List[int], modes: str, **kwargs)\n",
    "#     -> Tuple[List[int], int, Optional[str]]\n",
    "\n",
    "def _math(func, mem, pointer, params, modes, **kwargs):\n",
    "    a = resolve(mem, params[0], modes[0])\n",
    "    b = resolve(mem, params[1], modes[1])\n",
    "    out = params[2]\n",
    "    res = int(func(a, b))\n",
    "    _mem = list(mem)\n",
    "    _mem[out] = res\n",
    "    return _mem, pointer\n",
    "\n",
    "\n",
    "def _inp(mem, pointer, params, modes, **kwargs):\n",
    "    inp = kwargs.get('_input', None)\n",
    "#     print(f\"pop inp: {inp}\")\n",
    "#     if inp is None:\n",
    "#         inp = input(\"inp: \")\n",
    "    if len(inp) == 0:\n",
    "        return mem, pointer, \"paused\"\n",
    "    else:\n",
    "        inp = inp.pop(0)\n",
    "    out = params[0]\n",
    "    _mem = list(mem)\n",
    "    _mem[out] = int(inp)\n",
    "    return _mem, pointer\n",
    "\n",
    "\n",
    "def _out(mem, pointer, params, modes, **kwargs):\n",
    "    val = resolve(mem, params[0], modes[0])\n",
    "    print(\"out:\", val)\n",
    "    return mem, pointer\n",
    "\n",
    "\n",
    "def _jump(func, mem, pointer, params, modes, **kwargs):\n",
    "    cond = resolve(mem, params[0], modes[0])\n",
    "    _pointer = pointer\n",
    "    if func(cond):\n",
    "        _pointer = resolve(mem, params[1], modes[1])\n",
    "    return mem, _pointer\n",
    "\n",
    "\n",
    "def _halt(mem, pointer, *args, **kwargs):\n",
    "    return mem, pointer, \"halted\""
   ]
  },
  {
   "cell_type": "code",
   "execution_count": 4,
   "metadata": {},
   "outputs": [],
   "source": [
    "import operator\n",
    "from functools import partial\n",
    "\n",
    "\n",
    "def resolve(mem, val, mode):\n",
    "    return mem[val] if int(mode) == 0 else val\n",
    "\n",
    "\n",
    "def op(op_func, num_params, mem, pointer, modes, **kwargs):\n",
    "    params = mem[pointer + 1:pointer + num_params + 1]\n",
    "    if kwargs.get('_debug', False):\n",
    "        print(\"\", params)\n",
    "    p_orig = pointer\n",
    "\n",
    "    mem, pointer, *state = op_func(mem, pointer, params, modes, **kwargs)\n",
    "\n",
    "    state = state[0] if state else \"running\"\n",
    "    if state != \"paused\":\n",
    "        pointer = (pointer + len(params) + 1) if (pointer == p_orig) else pointer\n",
    "    return mem, pointer, state\n",
    "\n",
    "\n",
    "def opcode(instruction):\n",
    "    return int(str(instruction)[-2:])\n",
    "\n",
    "\n",
    "def modes(instruction):\n",
    "    return f\"{instruction:05d}\"[:3][::-1]\n",
    "\n",
    "\n",
    "def run(ops, mem, pointer, state, **kwargs):\n",
    "    if state in [\"halted\", \"paused\"]:\n",
    "        return mem, pointer, state\n",
    "\n",
    "    instruction = mem[pointer]\n",
    "    _opcode = opcode(instruction)\n",
    "    _modes = modes(instruction)\n",
    "    if kwargs.get('_debug', False):\n",
    "        print(_opcode, _modes, end='')\n",
    "\n",
    "    _op = ops[_opcode]\n",
    "    return run(ops, *_op(mem, pointer, _modes, **kwargs), **kwargs)\n"
   ]
  },
  {
   "cell_type": "code",
   "execution_count": 5,
   "metadata": {},
   "outputs": [],
   "source": [
    "# partial(_op, op_func, num_params)\n",
    "OPS = {\n",
    "    1: partial(op, partial(_math, operator.add), 3),\n",
    "    2: partial(op, partial(_math, operator.mul), 3),\n",
    "    3: partial(op, _inp, 1),\n",
    "    4: partial(op, _out, 1),\n",
    "    5: partial(op, partial(_jump, lambda x: x != 0), 2),\n",
    "    6: partial(op, partial(_jump, lambda x: x == 0), 2),\n",
    "    7: partial(op, partial(_math, operator.lt), 3),\n",
    "    8: partial(op, partial(_math, operator.eq), 3),\n",
    "    99: partial(op, _halt, 0)\n",
    "}\n",
    "\n",
    "def capture(func, *args, **kwargs):\n",
    "    f = io.StringIO()\n",
    "    with redirect_stdout(f):\n",
    "        ret = func(*args, **kwargs)\n",
    "    s = f.getvalue()\n",
    "    return int(re.match(\"^out: ([0-9]+)\", s)[1]), ret   "
   ]
  },
  {
   "cell_type": "markdown",
   "metadata": {},
   "source": [
    "## part 1"
   ]
  },
  {
   "cell_type": "code",
   "execution_count": null,
   "metadata": {},
   "outputs": [],
   "source": [
    "program = list(map(int, inp.split(',')))\n",
    "# program = list(map(int, \"3,23,3,24,1002,24,10,24,1002,23,-1,23,101,5,23,23,1,24,23,23,4,23,99,0,0\".split(',')))\n",
    "outputs = {}\n",
    "\n",
    "\n",
    "from itertools import permutations\n",
    "perms = [''.join(p) for p in permutations('01234')]\n",
    "\n",
    "for p in perms:\n",
    "    _a = capture(run, OPS, program, 0, \"running\", _input=[p[0], 0])\n",
    "    _b = capture(run, OPS, program, 0, \"running\", _input=[p[1], _a])\n",
    "    _c = capture(run, OPS, program, 0, \"running\", _input=[p[2], _b])\n",
    "    _d = capture(run, OPS, program, 0, \"running\", _input=[p[3], _c])\n",
    "    _e = capture(run, OPS, program, 0, \"running\", _input=[p[4], _d])\n",
    "    outputs[p] = _e\n",
    "                    \n",
    "max_val = max(outputs.values())\n",
    "print(max_val)\n",
    "[k for k, v in outputs.items() if v == max_val]\n"
   ]
  },
  {
   "cell_type": "markdown",
   "metadata": {},
   "source": [
    "## part 2"
   ]
  },
  {
   "cell_type": "code",
   "execution_count": 7,
   "metadata": {},
   "outputs": [
    {
     "name": "stdout",
     "output_type": "stream",
     "text": [
      "59597414\n"
     ]
    },
    {
     "data": {
      "text/plain": [
       "['97865']"
      ]
     },
     "execution_count": 7,
     "metadata": {},
     "output_type": "execute_result"
    }
   ],
   "source": [
    "# program = list(map(int, \"3,26,1001,26,-4,26,3,27,1002,27,2,27,1,27,26,27,4,27,1001,28,-1,28,1005,28,6,99,0,0,5\".split(',')))\n",
    "program = list(map(int, inp.split(',')))\n",
    "outputs = {}\n",
    "\n",
    "from itertools import permutations\n",
    "perms = [''.join(p) for p in permutations('56789')]\n",
    "\n",
    "\n",
    "\n",
    "for p in perms:\n",
    "    \n",
    "    registry = {\n",
    "        'a': (program, 0),\n",
    "        'b': (program, 0),\n",
    "        'c': (program, 0),\n",
    "        'd': (program, 0),\n",
    "        'e': (program, 0),\n",
    "    }\n",
    "    state = \"running\"\n",
    "    \n",
    "    args = {\n",
    "        'a': [p[0]],\n",
    "        'b': [p[1]],\n",
    "        'c': [p[2]],\n",
    "        'd': [p[3]],\n",
    "        'e': [p[4]],\n",
    "    }\n",
    "    e_out = 0\n",
    "    \n",
    "        \n",
    "    while state != \"halted\":\n",
    "\n",
    "#         for amp in 'abcde':\n",
    "\n",
    "        a_inp = [args['a'].pop(0), e_out] if len(args['a']) > 0 else [e_out]\n",
    "        a_out, ret = capture(run, OPS, registry['a'][0], registry['a'][1], \"running\", _input=a_inp)\n",
    "        registry['a'] = (ret[0], ret[1])\n",
    "        state = ret[2]\n",
    "\n",
    "        b_inp = [args['b'].pop(0), a_out] if len(args['b']) > 0 else [a_out]\n",
    "        b_out, ret = capture(run, OPS, registry['b'][0], registry['b'][1], \"running\", _input=b_inp)\n",
    "        registry['b'] = (ret[0], ret[1])\n",
    "        state = ret[2]\n",
    "\n",
    "        c_inp = [args['c'].pop(0), b_out] if len(args['c']) > 0 else [b_out]\n",
    "        c_out, ret = capture(run, OPS, registry['c'][0], registry['c'][1], \"running\", _input=c_inp)\n",
    "        registry['c'] = (ret[0], ret[1])\n",
    "        state = ret[2]\n",
    "\n",
    "        d_inp = [args['d'].pop(0), c_out] if len(args['d']) > 0 else [c_out]\n",
    "        d_out, ret = capture(run, OPS, registry['d'][0], registry['d'][1], \"running\", _input=d_inp)\n",
    "        registry['d'] = (ret[0], ret[1])\n",
    "        state = ret[2]\n",
    "\n",
    "        e_inp = [args['e'].pop(0), d_out] if len(args['e']) > 0 else [d_out]\n",
    "        e_out, ret = capture(run, OPS, registry['e'][0], registry['e'][1], \"running\", _input=e_inp)\n",
    "        registry['e'] = (ret[0], ret[1])\n",
    "        state = ret[2]\n",
    "\n",
    "\n",
    "    outputs[p] = e_out\n",
    "\n",
    "                    \n",
    "max_val = max(outputs.values())\n",
    "print(max_val)\n",
    "[k for k, v in outputs.items() if v == max_val]"
   ]
  },
  {
   "cell_type": "code",
   "execution_count": null,
   "metadata": {},
   "outputs": [],
   "source": []
  }
 ],
 "metadata": {
  "kernelspec": {
   "display_name": "Python 3",
   "language": "python",
   "name": "python3"
  },
  "language_info": {
   "codemirror_mode": {
    "name": "ipython",
    "version": 3
   },
   "file_extension": ".py",
   "mimetype": "text/x-python",
   "name": "python",
   "nbconvert_exporter": "python",
   "pygments_lexer": "ipython3",
   "version": "3.6.8"
  }
 },
 "nbformat": 4,
 "nbformat_minor": 2
}
