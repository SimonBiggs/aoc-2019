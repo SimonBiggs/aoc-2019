{
 "cells": [
  {
   "cell_type": "code",
   "execution_count": 1,
   "metadata": {
    "scrolled": false
   },
   "outputs": [
    {
     "name": "stdout",
     "output_type": "stream",
     "text": [
      "Found cached input for 2019 day 7\n",
      "3,8,1001,8,10,8,105,1,0,0,21,30,55,80,101,118,199,280,361,442,99999,3,9,101,4,9,9,4,9,99,3,9,101,4,9\n"
     ]
    }
   ],
   "source": [
    "import utils\n",
    "inp = utils.get_input(2019, 7)[:-1]\n",
    "print(inp[:100])"
   ]
  },
  {
   "cell_type": "markdown",
   "metadata": {},
   "source": [
    "## machine"
   ]
  },
  {
   "cell_type": "code",
   "execution_count": 2,
   "metadata": {},
   "outputs": [],
   "source": [
    "import operator\n",
    "from functools import partial\n",
    "from itertools import repeat, chain\n",
    "from collections import namedtuple\n",
    "\n",
    "\n",
    "class IntCode:\n",
    "    Op = namedtuple('Op', ['func', 'num_params', 'write_param', 'resolve_modes'])\n",
    "\n",
    "    def __init__(self, program, pointer=0, inputs=None, **kwargs):\n",
    "        self.mem = program\n",
    "        self.pointer = pointer\n",
    "        self.state = \"started\"\n",
    "        self.output = None\n",
    "        self._inputs = iter(inputs or [])\n",
    "        self._kwargs = kwargs\n",
    "        self._ops = {\n",
    "            1: IntCode.Op(partial(IntCode._math, operator.add), 3, True, True),\n",
    "            2: IntCode.Op(partial(IntCode._math, operator.mul), 3, True, True),\n",
    "            3: IntCode.Op(IntCode._inp, 1, True, False),\n",
    "            4: IntCode.Op(IntCode._out, 1, False, True),\n",
    "            5: IntCode.Op(partial(IntCode._jump, lambda x: x != 0), 2, False, True),\n",
    "            6: IntCode.Op(partial(IntCode._jump, lambda x: x == 0), 2, False, True),\n",
    "            7: IntCode.Op(partial(IntCode._math, operator.lt), 3, True, True),\n",
    "            8: IntCode.Op(partial(IntCode._math, operator.eq), 3, True, True),\n",
    "            99: IntCode.Op(IntCode._halt, 0, False, False),\n",
    "        }\n",
    "\n",
    "    def with_inputs(self, inputs):\n",
    "        self._inputs = chain(self._inputs, inputs)\n",
    "        return self\n",
    "\n",
    "    def run(self):\n",
    "        instruction = self.mem[self.pointer]\n",
    "        opcode, modes = self._opcode(instruction), self._modes(instruction)\n",
    "        op = self._ops[opcode]\n",
    "        params = self.mem[self.pointer + 1:self.pointer + op.num_params + 1]\n",
    "\n",
    "        if op.resolve_modes:\n",
    "            wparam = -int(op.write_param) or len(params)\n",
    "            args = zip(repeat(self.mem), params[:wparam], modes[:wparam])\n",
    "            params[:wparam] = map(lambda t: IntCode._resolve(*t), args)\n",
    "\n",
    "        if self._kwargs.get('_debug', False):\n",
    "            print(f\"{opcode:2d}\", modes, list(params))\n",
    "\n",
    "        orig_pointer = self.pointer\n",
    "        self.mem, self.pointer, output, self.state = \\\n",
    "            op.func(self.mem, self.pointer, *params, inputs=self._inputs, **self._kwargs)\n",
    "        self.output = output if output is not None else self.output\n",
    "\n",
    "        if self.state in [\"halted\", \"blocked\"]:\n",
    "            return self\n",
    "\n",
    "        if self.pointer == orig_pointer:\n",
    "            self.pointer = self.pointer + op.num_params + 1\n",
    "\n",
    "        return self.run()\n",
    "\n",
    "    @staticmethod\n",
    "    def _resolve(mem, val, mode):\n",
    "        return mem[val] if int(mode) == 0 else val\n",
    "\n",
    "    @staticmethod\n",
    "    def _opcode(instruction):\n",
    "        return int(str(instruction)[-2:])\n",
    "\n",
    "    @staticmethod\n",
    "    def _modes(instruction):\n",
    "        return f\"{instruction:05d}\"[:3][::-1]\n",
    "\n",
    "    @staticmethod\n",
    "    def _math(func, mem, pointer, a, b, out, **kwargs):\n",
    "        _mem = list(mem)\n",
    "        _mem[out] = int(func(a, b))\n",
    "        return _mem, pointer, None, \"running\"\n",
    "\n",
    "    @staticmethod\n",
    "    def _jump(func, mem, pointer, cond, val, **kwargs):\n",
    "        return mem, val if func(cond) else pointer, None, \"running\"\n",
    "\n",
    "    @staticmethod\n",
    "    def _inp(mem, pointer, out, inputs, **kwargs):\n",
    "        try:\n",
    "            _mem = list(mem)\n",
    "            _mem[out] = int(next(inputs))\n",
    "            return _mem, pointer, None, \"running\"\n",
    "        except StopIteration:\n",
    "            return mem, pointer, None, \"blocked\"\n",
    "\n",
    "    @staticmethod\n",
    "    def _out(mem, pointer, val, **kwargs):\n",
    "        if kwargs.get('_debug', False):\n",
    "            print(f\"out: {val}\")\n",
    "        return mem, pointer, val, \"running\"\n",
    "\n",
    "    @staticmethod\n",
    "    def _halt(mem, pointer, *args, **kwargs):\n",
    "        return mem, pointer, None, \"halted\"\n"
   ]
  },
  {
   "cell_type": "markdown",
   "metadata": {},
   "source": [
    "## part 1"
   ]
  },
  {
   "cell_type": "code",
   "execution_count": 3,
   "metadata": {},
   "outputs": [
    {
     "name": "stdout",
     "output_type": "stream",
     "text": [
      "43812\n"
     ]
    }
   ],
   "source": [
    "from itertools import permutations\n",
    "\n",
    "\n",
    "def part_1(program):\n",
    "    Signal = namedtuple('Signal', ['value', 'setting'])\n",
    "    max_signal = Signal(0, None)\n",
    "    for phase in permutations('01234'):\n",
    "        prev_out = 0\n",
    "        for p in phase:\n",
    "            amp = IntCode(program, inputs=[p, prev_out]).run()\n",
    "            prev_out = amp.output\n",
    "        if prev_out > max_signal.value:\n",
    "            max_signal = Signal(prev_out, ''.join(phase))\n",
    "    return max_signal\n",
    "\n",
    "\n",
    "program = list(map(int, inp.split(',')))\n",
    "print(part_1(program).value)"
   ]
  },
  {
   "cell_type": "markdown",
   "metadata": {},
   "source": [
    "## part 2"
   ]
  },
  {
   "cell_type": "code",
   "execution_count": 4,
   "metadata": {},
   "outputs": [
    {
     "name": "stdout",
     "output_type": "stream",
     "text": [
      "59597414\n"
     ]
    }
   ],
   "source": [
    "def part_2(program):\n",
    "    Signal = namedtuple('Signal', ['value', 'setting'])\n",
    "    max_signal = Signal(0, None)\n",
    "    for phase in permutations('56789'):\n",
    "        amps = [IntCode(program, inputs=[p]) for p in phase]\n",
    "        prev_out = 0\n",
    "        while amps[4].state != 'halted':\n",
    "            for i in range(5):\n",
    "                amps[i] = amps[i].with_inputs([prev_out]).run()\n",
    "                prev_out = amps[i].output\n",
    "        if prev_out > max_signal.value:\n",
    "            max_signal = Signal(prev_out, ''.join(phase))\n",
    "    return max_signal\n",
    "\n",
    "\n",
    "program = list(map(int, inp.split(',')))\n",
    "print(part_2(program).value)"
   ]
  },
  {
   "cell_type": "code",
   "execution_count": null,
   "metadata": {},
   "outputs": [],
   "source": []
  }
 ],
 "metadata": {
  "kernelspec": {
   "display_name": "Python 3",
   "language": "python",
   "name": "python3"
  },
  "language_info": {
   "codemirror_mode": {
    "name": "ipython",
    "version": 3
   },
   "file_extension": ".py",
   "mimetype": "text/x-python",
   "name": "python",
   "nbconvert_exporter": "python",
   "pygments_lexer": "ipython3",
   "version": "3.6.8"
  }
 },
 "nbformat": 4,
 "nbformat_minor": 2
}
