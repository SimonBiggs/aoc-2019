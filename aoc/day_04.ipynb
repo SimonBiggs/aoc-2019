{
 "cells": [
  {
   "cell_type": "code",
   "execution_count": 1,
   "metadata": {},
   "outputs": [],
   "source": [
    "from functools import partial\n",
    "from collections import defaultdict"
   ]
  },
  {
   "cell_type": "code",
   "execution_count": 2,
   "metadata": {},
   "outputs": [
    {
     "name": "stdout",
     "output_type": "stream",
     "text": [
      "(307237, 769058)\n"
     ]
    }
   ],
   "source": [
    "with open('inputs/day-04.txt', 'r') as f:\n",
    "    parsed = f.read()[:-1]  # drop eof newline\n",
    "\n",
    "inp = tuple(map(int, parsed.split(\"-\")))\n",
    "print(inp)"
   ]
  },
  {
   "cell_type": "markdown",
   "metadata": {},
   "source": [
    "## part 1"
   ]
  },
  {
   "cell_type": "code",
   "execution_count": 3,
   "metadata": {},
   "outputs": [
    {
     "name": "stdout",
     "output_type": "stream",
     "text": [
      "889\n"
     ]
    }
   ],
   "source": [
    "def _digits(num, s):\n",
    "    return len(s) == num\n",
    "\n",
    "\n",
    "def adjacent_pt1(s):\n",
    "    prev = s[0]\n",
    "    for c in s[1:]:\n",
    "        if c == prev:\n",
    "            return True\n",
    "        prev = c\n",
    "    return False\n",
    "\n",
    "\n",
    "def increase(s):\n",
    "    return list(s) == sorted(s)\n",
    "\n",
    "\n",
    "def part_1(inp):\n",
    "    digits = partial(_digits, 6)\n",
    "\n",
    "    l = range(inp[0], inp[1])\n",
    "    l = map(str, l)\n",
    "    l = filter(digits, l)\n",
    "    l = filter(adjacent_pt1, l)\n",
    "    l = filter(increase, l)\n",
    "    return len(list(l))\n",
    "\n",
    "\n",
    "print(part_1(inp))"
   ]
  },
  {
   "cell_type": "markdown",
   "metadata": {},
   "source": [
    "## part 2"
   ]
  },
  {
   "cell_type": "code",
   "execution_count": 4,
   "metadata": {},
   "outputs": [
    {
     "name": "stdout",
     "output_type": "stream",
     "text": [
      "589\n"
     ]
    }
   ],
   "source": [
    "def adjacent_pt2(s):\n",
    "    \"\"\"all repeated digits are exactly two digits long\"\"\"\n",
    "    prev = s[0]\n",
    "    counts = defaultdict(lambda: 1)\n",
    "    for c in s[1:]:\n",
    "        if c == prev:\n",
    "            counts[c] += 1\n",
    "        prev = c\n",
    "    return 2 in set(counts.values())\n",
    "\n",
    "\n",
    "def part_2(inp):\n",
    "    digits = partial(_digits, 6)\n",
    "\n",
    "    l = range(inp[0], inp[1])\n",
    "    l = map(str, l)\n",
    "    l = filter(digits, l)\n",
    "    l = filter(adjacent_pt2, l)\n",
    "    l = filter(increase, l)\n",
    "    return len(list(l))\n",
    "\n",
    "\n",
    "print(part_2(inp))"
   ]
  },
  {
   "cell_type": "code",
   "execution_count": null,
   "metadata": {},
   "outputs": [],
   "source": []
  }
 ],
 "metadata": {
  "kernelspec": {
   "display_name": "Python 3",
   "language": "python",
   "name": "python3"
  },
  "language_info": {
   "codemirror_mode": {
    "name": "ipython",
    "version": 3
   },
   "file_extension": ".py",
   "mimetype": "text/x-python",
   "name": "python",
   "nbconvert_exporter": "python",
   "pygments_lexer": "ipython3",
   "version": "3.6.8"
  }
 },
 "nbformat": 4,
 "nbformat_minor": 2
}
