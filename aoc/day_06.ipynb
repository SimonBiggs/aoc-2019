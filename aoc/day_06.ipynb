{
 "cells": [
  {
   "cell_type": "code",
   "execution_count": 1,
   "metadata": {
    "scrolled": false
   },
   "outputs": [
    {
     "name": "stdout",
     "output_type": "stream",
     "text": [
      "WX9)CQ4\n",
      "7LX)WVR\n",
      "25Q)7HB\n",
      "DCB)979\n",
      "KY3)Q2M\n",
      "CBN)88V\n",
      "T81)99L\n",
      "QB8)8KY\n",
      "BK3)58Y\n",
      "3SC)9JM\n",
      "4S2)3G5\n",
      "GWZ)7BM\n",
      "\n"
     ]
    }
   ],
   "source": [
    "with open('inputs/day-06.txt', 'r') as f:\n",
    "    parsed = f.read()[:-1]  # drop eof newline\n",
    "\n",
    "print(parsed[:96])"
   ]
  },
  {
   "cell_type": "markdown",
   "metadata": {},
   "source": [
    "## part 1"
   ]
  },
  {
   "cell_type": "code",
   "execution_count": 2,
   "metadata": {},
   "outputs": [
    {
     "data": {
      "text/plain": [
       "251208"
      ]
     },
     "execution_count": 2,
     "metadata": {},
     "output_type": "execute_result"
    }
   ],
   "source": [
    "from collections import defaultdict\n",
    "\n",
    "\n",
    "def edges(inp):\n",
    "    return map(lambda x: tuple(x.split(')')), inp.split('\\n'))\n",
    "\n",
    "\n",
    "def digraph(edges):\n",
    "    graph = defaultdict(set)\n",
    "    for edge in edges:\n",
    "        graph[edge[0]].add(edge[1])\n",
    "    return graph\n",
    "\n",
    "\n",
    "def dfs(graph, node, visited=None, depth=0):\n",
    "    visited = visited or {}\n",
    "    if node not in visited:\n",
    "        visited[node] = depth\n",
    "        depth += 1\n",
    "        for neighbor in graph[node]:\n",
    "            dfs(graph, neighbor, visited, depth)\n",
    "    return visited\n",
    "\n",
    "\n",
    "def part_1(inp, start='COM'):\n",
    "    orbits = edges(inp)\n",
    "    graph = digraph(orbits)\n",
    "    depths = dfs(graph, start)\n",
    "    return sum(depths.values())\n",
    "\n",
    "\n",
    "part_1(parsed)"
   ]
  },
  {
   "cell_type": "markdown",
   "metadata": {},
   "source": [
    "## part 2"
   ]
  },
  {
   "cell_type": "code",
   "execution_count": 3,
   "metadata": {},
   "outputs": [
    {
     "data": {
      "text/plain": [
       "397"
      ]
     },
     "execution_count": 3,
     "metadata": {},
     "output_type": "execute_result"
    }
   ],
   "source": [
    "from copy import deepcopy\n",
    "\n",
    "\n",
    "def bigraph(graph):\n",
    "    # make bidirectional\n",
    "    _graph = deepcopy(graph)\n",
    "    for k, v in graph.items():\n",
    "        for x in v:\n",
    "            _graph[x].add(k)\n",
    "    return _graph\n",
    "\n",
    "\n",
    "def bfs(graph, start, goal):\n",
    "    queue = [(start, [start])]\n",
    "    while queue:\n",
    "        (node, path) = queue.pop(0)\n",
    "        for neighbor in graph[node] - set(path):\n",
    "            if neighbor == goal:\n",
    "                return path + [neighbor]\n",
    "            queue.append((neighbor, path + [neighbor]))\n",
    "\n",
    "\n",
    "def part_2(inp, start='YOU', end='SAN'):\n",
    "    orbits = edges(inp)\n",
    "    graph = bigraph(digraph(orbits))\n",
    "    path = bfs(graph, start, end)\n",
    "    return len(path) - 3\n",
    "\n",
    "\n",
    "part_2(parsed)"
   ]
  },
  {
   "cell_type": "code",
   "execution_count": null,
   "metadata": {},
   "outputs": [],
   "source": []
  }
 ],
 "metadata": {
  "kernelspec": {
   "display_name": "Python 3",
   "language": "python",
   "name": "python3"
  },
  "language_info": {
   "codemirror_mode": {
    "name": "ipython",
    "version": 3
   },
   "file_extension": ".py",
   "mimetype": "text/x-python",
   "name": "python",
   "nbconvert_exporter": "python",
   "pygments_lexer": "ipython3",
   "version": "3.6.8"
  }
 },
 "nbformat": 4,
 "nbformat_minor": 2
}
